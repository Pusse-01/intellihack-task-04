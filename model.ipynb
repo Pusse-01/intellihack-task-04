{
 "cells": [
  {
   "cell_type": "code",
   "execution_count": 8,
   "metadata": {},
   "outputs": [],
   "source": [
    "import pandas as pd\n",
    "import numpy as np\n",
    "from sklearn.model_selection import train_test_split\n",
    "from sklearn.preprocessing import StandardScaler, OneHotEncoder\n",
    "from sklearn.impute import SimpleImputer\n",
    "from sklearn.compose import ColumnTransformer\n",
    "from sklearn.pipeline import Pipeline\n",
    "from sklearn.linear_model import LinearRegression\n",
    "from sklearn.metrics import mean_squared_error, r2_score\n",
    "import matplotlib.pyplot as plt"
   ]
  },
  {
   "cell_type": "code",
   "execution_count": 9,
   "metadata": {},
   "outputs": [],
   "source": [
    "# Load data\n",
    "# Try reading the file with a different encoding\n",
    "try:\n",
    "    df = pd.read_csv('Watches Bags Accessories.csv', encoding='latin1')\n",
    "except UnicodeDecodeError:\n",
    "    df = pd.read_csv('Watches Bags Accessories.csv', encoding='cp1252')"
   ]
  },
  {
   "cell_type": "code",
   "execution_count": 10,
   "metadata": {},
   "outputs": [
    {
     "data": {
      "text/html": [
       "<div>\n",
       "<style scoped>\n",
       "    .dataframe tbody tr th:only-of-type {\n",
       "        vertical-align: middle;\n",
       "    }\n",
       "\n",
       "    .dataframe tbody tr th {\n",
       "        vertical-align: top;\n",
       "    }\n",
       "\n",
       "    .dataframe thead th {\n",
       "        text-align: right;\n",
       "    }\n",
       "</style>\n",
       "<table border=\"1\" class=\"dataframe\">\n",
       "  <thead>\n",
       "    <tr style=\"text-align: right;\">\n",
       "      <th></th>\n",
       "      <th>Title</th>\n",
       "      <th>Rating in Stars</th>\n",
       "      <th>Rating Count</th>\n",
       "      <th>Sold Count</th>\n",
       "      <th>Voucher</th>\n",
       "      <th>Delivery</th>\n",
       "      <th>Currency</th>\n",
       "      <th>Current Price</th>\n",
       "      <th>Original Price</th>\n",
       "      <th>Link</th>\n",
       "      <th>Category</th>\n",
       "    </tr>\n",
       "  </thead>\n",
       "  <tbody>\n",
       "    <tr>\n",
       "      <th>0</th>\n",
       "      <td>Yfashion Cartoon  Electronic  Watch Life Water...</td>\n",
       "      <td>4.6/5</td>\n",
       "      <td>707</td>\n",
       "      <td>6K Sold</td>\n",
       "      <td>0</td>\n",
       "      <td>Free Delivery</td>\n",
       "      <td>Rs.</td>\n",
       "      <td>287</td>\n",
       "      <td>Rs. 520</td>\n",
       "      <td>//www.daraz.pk/products/y-led-3-i258744118-s14...</td>\n",
       "      <td>Kids Watches</td>\n",
       "    </tr>\n",
       "    <tr>\n",
       "      <th>1</th>\n",
       "      <td>100% Imported LED watch for men , boys and Kid...</td>\n",
       "      <td>4.3/5</td>\n",
       "      <td>293</td>\n",
       "      <td>1K Sold</td>\n",
       "      <td>0</td>\n",
       "      <td>0</td>\n",
       "      <td>Rs.</td>\n",
       "      <td>270</td>\n",
       "      <td>Rs. 999</td>\n",
       "      <td>//www.daraz.pk/products/100-led-2023-i40167553...</td>\n",
       "      <td>Kids Watches</td>\n",
       "    </tr>\n",
       "    <tr>\n",
       "      <th>2</th>\n",
       "      <td>1 Cartoon Characters Analog Wrist Watch For Ki...</td>\n",
       "      <td>4.5/5</td>\n",
       "      <td>57</td>\n",
       "      <td>452 Sold</td>\n",
       "      <td>0</td>\n",
       "      <td>Free Delivery</td>\n",
       "      <td>Rs.</td>\n",
       "      <td>225</td>\n",
       "      <td>Rs. 750</td>\n",
       "      <td>//www.daraz.pk/products/1-i423737473-s20070599...</td>\n",
       "      <td>Kids Watches</td>\n",
       "    </tr>\n",
       "    <tr>\n",
       "      <th>3</th>\n",
       "      <td>M3 Touch LED Bracelet Digital Watch Band Good ...</td>\n",
       "      <td>4.6/5</td>\n",
       "      <td>51</td>\n",
       "      <td>332 Sold</td>\n",
       "      <td>0</td>\n",
       "      <td>Free Delivery</td>\n",
       "      <td>Rs.</td>\n",
       "      <td>160</td>\n",
       "      <td>Rs. 299</td>\n",
       "      <td>//www.daraz.pk/products/m3-led-led-i432456407-...</td>\n",
       "      <td>Kids Watches</td>\n",
       "    </tr>\n",
       "    <tr>\n",
       "      <th>4</th>\n",
       "      <td>led Watches For Boys and Girls and kids</td>\n",
       "      <td>4.4/5</td>\n",
       "      <td>54</td>\n",
       "      <td>476 Sold</td>\n",
       "      <td>0</td>\n",
       "      <td>Free Delivery</td>\n",
       "      <td>Rs.</td>\n",
       "      <td>198</td>\n",
       "      <td>Rs. 300</td>\n",
       "      <td>//www.daraz.pk/products/led-i398157365-s192654...</td>\n",
       "      <td>Kids Watches</td>\n",
       "    </tr>\n",
       "  </tbody>\n",
       "</table>\n",
       "</div>"
      ],
      "text/plain": [
       "                                               Title Rating in Stars  \\\n",
       "0  Yfashion Cartoon  Electronic  Watch Life Water...           4.6/5   \n",
       "1  100% Imported LED watch for men , boys and Kid...           4.3/5   \n",
       "2  1 Cartoon Characters Analog Wrist Watch For Ki...           4.5/5   \n",
       "3  M3 Touch LED Bracelet Digital Watch Band Good ...           4.6/5   \n",
       "4            led Watches For Boys and Girls and kids           4.4/5   \n",
       "\n",
       "   Rating Count Sold Count Voucher       Delivery Currency Current Price  \\\n",
       "0           707    6K Sold       0  Free Delivery      Rs.           287   \n",
       "1           293    1K Sold       0              0      Rs.           270   \n",
       "2            57   452 Sold       0  Free Delivery      Rs.           225   \n",
       "3            51   332 Sold       0  Free Delivery      Rs.           160   \n",
       "4            54   476 Sold       0  Free Delivery      Rs.           198   \n",
       "\n",
       "  Original Price                                               Link  \\\n",
       "0        Rs. 520  //www.daraz.pk/products/y-led-3-i258744118-s14...   \n",
       "1        Rs. 999  //www.daraz.pk/products/100-led-2023-i40167553...   \n",
       "2        Rs. 750  //www.daraz.pk/products/1-i423737473-s20070599...   \n",
       "3        Rs. 299  //www.daraz.pk/products/m3-led-led-i432456407-...   \n",
       "4        Rs. 300  //www.daraz.pk/products/led-i398157365-s192654...   \n",
       "\n",
       "       Category  \n",
       "0  Kids Watches  \n",
       "1  Kids Watches  \n",
       "2  Kids Watches  \n",
       "3  Kids Watches  \n",
       "4  Kids Watches  "
      ]
     },
     "execution_count": 10,
     "metadata": {},
     "output_type": "execute_result"
    }
   ],
   "source": [
    "df.head()"
   ]
  },
  {
   "cell_type": "code",
   "execution_count": 17,
   "metadata": {},
   "outputs": [
    {
     "name": "stdout",
     "output_type": "stream",
     "text": [
      "107\n"
     ]
    }
   ],
   "source": [
    "def convert_rating(rating):\n",
    "    try:\n",
    "        if '/' in rating:\n",
    "            return float(rating.split('/')[0])\n",
    "        return float(rating)\n",
    "    except ValueError:\n",
    "        return np.nan  # Return NaN for values that cannot be converted\n",
    "\n",
    "# Apply the conversion to 'Rating in Stars'\n",
    "df['Rating in Stars'] = df['Rating in Stars'].apply(convert_rating)\n",
    "\n",
    "# You might want to check how many NaNs were introduced and decide how to handle them\n",
    "print(df['Rating in Stars'].isna().sum())"
   ]
  },
  {
   "cell_type": "code",
   "execution_count": 19,
   "metadata": {},
   "outputs": [],
   "source": [
    "# Impute using the mean\n",
    "mean_imputer = SimpleImputer(strategy='mean')\n",
    "df['Rating in Stars'] = mean_imputer.fit_transform(df[['Rating in Stars']])"
   ]
  },
  {
   "cell_type": "code",
   "execution_count": 21,
   "metadata": {},
   "outputs": [
    {
     "name": "stdout",
     "output_type": "stream",
     "text": [
      "34\n"
     ]
    }
   ],
   "source": [
    "def convert_sold_count(sold_count):\n",
    "    # Check if the value is a string\n",
    "    if isinstance(sold_count, str):\n",
    "        # Remove the word 'Sold' and any spaces\n",
    "        sold_count = sold_count.replace(' Sold', '').strip()\n",
    "        \n",
    "        # Check for 'K' or 'M' and convert accordingly\n",
    "        if 'K' in sold_count:\n",
    "            return int(float(sold_count.replace('K', '')) * 1000)\n",
    "        elif 'M' in sold_count:\n",
    "            return int(float(sold_count.replace('M', '')) * 1000000)\n",
    "        else:\n",
    "            # Convert directly to int, handling any unexpected non-numeric cases\n",
    "            try:\n",
    "                return int(sold_count)\n",
    "            except ValueError:\n",
    "                return np.nan  # Return NaN for values that cannot be converted to int\n",
    "    elif isinstance(sold_count, (int, float)):\n",
    "        # If it's already a numeric type, just return it as is\n",
    "        return sold_count\n",
    "    else:\n",
    "        # For any other cases that are neither str nor numeric (e.g., NaN)\n",
    "        return np.nan\n",
    "\n",
    "# Apply the conversion to 'Sold Count'\n",
    "df['Sold Count'] = df['Sold Count'].apply(convert_sold_count)\n",
    "\n",
    "# Check how many NaNs were introduced due to conversion issues\n",
    "print(df['Sold Count'].isna().sum())\n"
   ]
  },
  {
   "cell_type": "code",
   "execution_count": 22,
   "metadata": {},
   "outputs": [
    {
     "name": "stdout",
     "output_type": "stream",
     "text": [
      "0\n"
     ]
    }
   ],
   "source": [
    "# Create an imputer object using median as the strategy\n",
    "median_imputer = SimpleImputer(strategy='median')\n",
    "\n",
    "# Impute the missing values in the 'Sold Count' column\n",
    "df['Sold Count'] = median_imputer.fit_transform(df[['Sold Count']])\n",
    "\n",
    "# Check if any NaN values remain\n",
    "print(df['Sold Count'].isna().sum())"
   ]
  },
  {
   "cell_type": "code",
   "execution_count": 23,
   "metadata": {},
   "outputs": [],
   "source": [
    "# Encoding categorical variables and scaling numerical features\n",
    "categorical_features = ['Category']\n",
    "numerical_features = ['Rating in Stars', 'Rating Count', 'Sold Count', 'Current Price', 'Original Price']\n",
    "\n",
    "preprocessor = ColumnTransformer(\n",
    "    transformers=[\n",
    "        ('num', StandardScaler(), numerical_features),\n",
    "        ('cat', OneHotEncoder(), categorical_features)\n",
    "    ])\n"
   ]
  },
  {
   "cell_type": "code",
   "execution_count": 29,
   "metadata": {},
   "outputs": [
    {
     "name": "stdout",
     "output_type": "stream",
     "text": [
      "Rating Count       0\n",
      "Current Price      0\n",
      "Original Price    68\n",
      "dtype: int64\n"
     ]
    }
   ],
   "source": [
    "def clean_numeric(x):\n",
    "    if isinstance(x, str):  # Check if the value is a string\n",
    "        # Remove 'Rs.' and commas, then strip any remaining whitespace\n",
    "        x = x.replace('Rs.', '').replace(',', '').strip()\n",
    "        try:\n",
    "            return float(x)  # Convert to float\n",
    "        except ValueError:\n",
    "            return np.nan  # Return NaN for values that cannot be converted\n",
    "    return x\n",
    "\n",
    "# Apply this cleaning function to the necessary columns\n",
    "df['Rating Count'] = df['Rating Count'].apply(clean_numeric)\n",
    "df['Current Price'] = df['Current Price'].apply(clean_numeric)\n",
    "df['Original Price'] = df['Original Price'].apply(clean_numeric)\n",
    "\n",
    "# Check if there are any NaN values introduced by this cleaning\n",
    "print(df[['Rating Count', 'Current Price', 'Original Price']].isna().sum())\n"
   ]
  },
  {
   "cell_type": "code",
   "execution_count": 30,
   "metadata": {},
   "outputs": [
    {
     "name": "stdout",
     "output_type": "stream",
     "text": [
      "0\n"
     ]
    }
   ],
   "source": [
    "# Create an imputer object using median as the strategy\n",
    "median_imputer = SimpleImputer(strategy='median')\n",
    "\n",
    "# Impute the missing values in the 'Original Price' column\n",
    "df['Original Price'] = median_imputer.fit_transform(df[['Original Price']])\n",
    "\n",
    "# Check if any NaN values remain\n",
    "print(df['Original Price'].isna().sum())"
   ]
  },
  {
   "cell_type": "code",
   "execution_count": 31,
   "metadata": {},
   "outputs": [
    {
     "name": "stdout",
     "output_type": "stream",
     "text": [
      "Numeric Features:    Rating in Stars  Rating Count  Current Price  Original Price\n",
      "0              4.6           707          287.0           520.0\n",
      "1              4.3           293          270.0           999.0\n",
      "2              4.5            57          225.0           750.0\n",
      "3              4.6            51          160.0           299.0\n",
      "4              4.4            54          198.0           300.0\n",
      "Categorical Features:        Category\n",
      "0  Kids Watches\n",
      "1  Kids Watches\n",
      "2  Kids Watches\n",
      "3  Kids Watches\n",
      "4  Kids Watches\n",
      "[[ 0.48399423  1.1748147  -0.63424209 -0.55317762]\n",
      " [-0.05474295  0.21101058 -0.66048377 -0.25836583]\n",
      " [ 0.30441517 -0.33840432 -0.72994703 -0.41161872]\n",
      " ...\n",
      " [ 0.12483611 -0.45946184 -0.62189307 -0.47316607]\n",
      " [-0.05474295 -0.14517789 -0.26068412 -0.45100902]\n",
      " [ 0.48399423 -0.45946184 -0.65276563 -0.25836583]]\n",
      "  (0, 0)\t1.0\n",
      "  (1, 0)\t1.0\n",
      "  (2, 0)\t1.0\n",
      "  (3, 0)\t1.0\n",
      "  (4, 0)\t1.0\n",
      "  (5, 0)\t1.0\n",
      "  (6, 0)\t1.0\n",
      "  (7, 0)\t1.0\n",
      "  (8, 0)\t1.0\n",
      "  (9, 0)\t1.0\n",
      "  (10, 0)\t1.0\n",
      "  (11, 0)\t1.0\n",
      "  (12, 0)\t1.0\n",
      "  (13, 0)\t1.0\n",
      "  (14, 0)\t1.0\n",
      "  (15, 0)\t1.0\n",
      "  (16, 0)\t1.0\n",
      "  (17, 0)\t1.0\n",
      "  (18, 0)\t1.0\n",
      "  (19, 0)\t1.0\n",
      "  (20, 0)\t1.0\n",
      "  (21, 0)\t1.0\n",
      "  (22, 0)\t1.0\n",
      "  (23, 0)\t1.0\n",
      "  (24, 0)\t1.0\n",
      "  :\t:\n",
      "  (1053, 6)\t1.0\n",
      "  (1054, 6)\t1.0\n",
      "  (1055, 6)\t1.0\n",
      "  (1056, 6)\t1.0\n",
      "  (1057, 6)\t1.0\n",
      "  (1058, 6)\t1.0\n",
      "  (1059, 6)\t1.0\n",
      "  (1060, 6)\t1.0\n",
      "  (1061, 6)\t1.0\n",
      "  (1062, 6)\t1.0\n",
      "  (1063, 6)\t1.0\n",
      "  (1064, 6)\t1.0\n",
      "  (1065, 6)\t1.0\n",
      "  (1066, 6)\t1.0\n",
      "  (1067, 6)\t1.0\n",
      "  (1068, 6)\t1.0\n",
      "  (1069, 6)\t1.0\n",
      "  (1070, 6)\t1.0\n",
      "  (1071, 6)\t1.0\n",
      "  (1072, 6)\t1.0\n",
      "  (1073, 6)\t1.0\n",
      "  (1074, 6)\t1.0\n",
      "  (1075, 6)\t1.0\n",
      "  (1076, 6)\t1.0\n",
      "  (1077, 6)\t1.0\n"
     ]
    }
   ],
   "source": [
    "# Check the columns being passed to each part of the ColumnTransformer\n",
    "print(\"Numeric Features:\", df[numerical_features].head())\n",
    "print(\"Categorical Features:\", df[categorical_features].head())\n",
    "\n",
    "# Test the transformations separately\n",
    "from sklearn.preprocessing import StandardScaler, OneHotEncoder\n",
    "\n",
    "# Test the numerical pipeline\n",
    "scaler = StandardScaler()\n",
    "print(scaler.fit_transform(df[numerical_features].fillna(0)))  # Use fillna if NaNs are present\n",
    "\n",
    "# Test the categorical pipeline\n",
    "encoder = OneHotEncoder()\n",
    "print(encoder.fit_transform(df[categorical_features]))\n"
   ]
  },
  {
   "cell_type": "code",
   "execution_count": 32,
   "metadata": {},
   "outputs": [
    {
     "name": "stdout",
     "output_type": "stream",
     "text": [
      "                                                 Title  Rating in Stars  \\\n",
      "875  New Women Wallets Fashion PU Leather Top Quali...              4.1   \n",
      "949  Eastern Watches 3 Chrono Stain Less Steel Anal...              4.2   \n",
      "618  Winter Rabbit Knit Mittens Plush Fingerless Gl...              4.9   \n",
      "881  Ladies Bags Cross Body Shoulder Bags at Discou...              4.2   \n",
      "590  LouisWill Men Casuals Fashion Watches Quartz W...              4.5   \n",
      "\n",
      "     Rating Count     Voucher       Delivery Currency Current Price  \\\n",
      "875            80           0  Free Delivery      Rs.           339   \n",
      "949           151           0  Free Delivery      Rs.           549   \n",
      "618           498  4 Vouchers  Free Delivery      Rs.         1,037   \n",
      "881            33           0              0      Rs.           810   \n",
      "590            46  3 Vouchers  Free Delivery      Rs.         1,940   \n",
      "\n",
      "    Original Price                                               Link  \\\n",
      "875        Rs. 550  //www.daraz.pk/products/-i431404149-s217496114...   \n",
      "949        Rs. 909  //www.daraz.pk/products/3-i171266160-s14744333...   \n",
      "618      Rs. 1,630  //www.daraz.pk/products/-i353972180-s178728834...   \n",
      "881            NaN  //www.daraz.pk/products/ladies-bags-cross-body...   \n",
      "590      Rs. 4,599  //www.daraz.pk/products/louiswill-men-casuals-...   \n",
      "\n",
      "               Category  \n",
      "875         Womens Bags  \n",
      "949      Womens Watches  \n",
      "618  Womens Accessories  \n",
      "881         Womens Bags  \n",
      "590        Mens Watches  \n",
      "875     440.0\n",
      "949     802.0\n",
      "618    2000.0\n",
      "881     135.0\n",
      "590     384.0\n",
      "Name: Sold Count, dtype: float64\n"
     ]
    }
   ],
   "source": [
    "# Check the head of the data to ensure the split is correct\n",
    "print(X_train.head())\n",
    "print(y_train.head())\n"
   ]
  },
  {
   "cell_type": "code",
   "execution_count": 35,
   "metadata": {},
   "outputs": [
    {
     "data": {
      "text/plain": [
       "Pipeline(steps=[('preprocessor',\n",
       "                 ColumnTransformer(transformers=[('num', StandardScaler(),\n",
       "                                                  ['Rating in Stars',\n",
       "                                                   'Rating Count',\n",
       "                                                   'Current Price',\n",
       "                                                   'Original Price']),\n",
       "                                                 ('cat', OneHotEncoder(),\n",
       "                                                  ['Category'])])),\n",
       "                ('regressor', LinearRegression())])"
      ]
     },
     "execution_count": 35,
     "metadata": {},
     "output_type": "execute_result"
    }
   ],
   "source": [
    "# Assuming 'Sold Count' is the target and has already been processed similarly\n",
    "X = df.drop('Sold Count', axis=1)\n",
    "y = df['Sold Count']\n",
    "X_train, X_test, y_train, y_test = train_test_split(X, y, test_size=0.2, random_state=42)\n",
    "\n",
    "model.fit(X_train, y_train)  # Training the model\n"
   ]
  },
  {
   "cell_type": "code",
   "execution_count": 36,
   "metadata": {},
   "outputs": [
    {
     "name": "stdout",
     "output_type": "stream",
     "text": [
      "Mean Squared Error: 358225.4181427115\n",
      "R2 Score: 0.9275229975029149\n"
     ]
    }
   ],
   "source": [
    "# Predicting and evaluating\n",
    "y_pred = model.predict(X_test)\n",
    "mse = mean_squared_error(y_test, y_pred)\n",
    "r2 = r2_score(y_test, y_pred)\n",
    "\n",
    "print(\"Mean Squared Error:\", mse)\n",
    "print(\"R2 Score:\", r2)\n"
   ]
  },
  {
   "cell_type": "code",
   "execution_count": 38,
   "metadata": {},
   "outputs": [
    {
     "data": {
      "image/png": "[encoded data removed]",
      "text/plain": [
       "<Figure size 432x288 with 1 Axes>"
      ]
     },
     "metadata": {
      "needs_background": "light"
     },
     "output_type": "display_data"
    },
    {
     "data": {
      "image/png": "[encoded data removed]",
      "text/plain": [
       "<Figure size 432x288 with 1 Axes>"
      ]
     },
     "metadata": {
      "needs_background": "light"
     },
     "output_type": "display_data"
    }
   ],
   "source": [
    "import matplotlib.pyplot as plt\n",
    "\n",
    "residuals = y_test - y_pred\n",
    "\n",
    "plt.scatter(y_pred, residuals)\n",
    "plt.title('Residuals vs. Predicted Values')\n",
    "plt.xlabel('Predicted Sold Counts')\n",
    "plt.ylabel('Residuals')\n",
    "plt.axhline(y=0, color='red', linestyle='--')\n",
    "plt.show()\n",
    "\n",
    "# Checking for normality of residuals\n",
    "plt.hist(residuals, bins=30)\n",
    "plt.title('Histogram of Residuals')\n",
    "plt.xlabel('Residuals')\n",
    "plt.ylabel('Frequency')\n",
    "plt.show()\n"
   ]
  }
 ],
 "metadata": {
  "kernelspec": {
   "display_name": "Python 3",
   "language": "python",
   "name": "python3"
  },
  "language_info": {
   "codemirror_mode": {
    "name": "ipython",
    "version": 3
   },
   "file_extension": ".py",
   "mimetype": "text/x-python",
   "name": "python",
   "nbconvert_exporter": "python",
   "pygments_lexer": "ipython3",
   "version": "3.10.11"
  }
 },
 "nbformat": 4,
 "nbformat_minor": 2
}
